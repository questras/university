{
 "cells": [
  {
   "cell_type": "markdown",
   "metadata": {},
   "source": [
    "Michał Wiśniewski 418486"
   ]
  },
  {
   "cell_type": "markdown",
   "metadata": {},
   "source": [
    "**Problem 3b.** In this task we consider a discrete distribution *without a mean* and verify whether we can still estimate the location of its peak by simply computing averages. Consider a discrete variable $X$ with the following distribution: $P(X=k) = \\frac{1}{4|k|(|k|+1)}$ for $k \\neq 0$ and $P(X=0) = \\frac{1}{2}$. \n",
    " * Argue that these formulas indeed describe a discrete distribution.\n",
    " * Show that $X$ does not have a mean.\n",
    " * Plot the function $f(k) = P(X=k)$ for $k \\in [-10,10]$.\n",
    " * Write a function that samples from $X$'s distribution (imaginary bonus points if it is vectorized).\n",
    " * Generate $N=10\\,000$ values $x_1,\\ldots,x_n$ from the distribution.\n",
    " * For $i \\in \\{1,\\ldots,n\\}$ compute $\\bar{x}_i = \\frac{x_1+\\ldots+x_i}{i}$. \n",
    " * Plot the values of $\\bar{x}_i$. Does it look like the series converges? If it is not clear, you can compute several independent\n",
    "   $N$-means and plot a histogram, then increase $N$ significantly and see how it changes.\n",
    " * For $i \\in \\{1,\\ldots,n\\}$ compute $\\hat{x}_i = \\textrm{ median of }\\{x_1,\\ldots,x_i\\}$. \n",
    "   You do not need to do it in a clever way (like in ASD lab).\n",
    " * Plot the values of $\\hat{x}_i$. Does it look like the series converges? \n",
    " * A more interesting situation would be the one where you a given a distribution like $X+c$ for unknown $c$, and \n",
    "   want to figure out what $c$ is, i.e. find the center of the distribution. Both methods above attempt to\n",
    "   locate the center - which works better?"
   ]
  },
  {
   "cell_type": "code",
   "execution_count": 1,
   "metadata": {},
   "outputs": [],
   "source": [
    "import numpy as np\n",
    "import matplotlib.pyplot as plt\n",
    "\n",
    "%matplotlib inline"
   ]
  },
  {
   "cell_type": "code",
   "execution_count": 2,
   "metadata": {},
   "outputs": [],
   "source": [
    "def P_x(k):\n",
    "    if k == 0:\n",
    "        return 0.5\n",
    "    return 1 / (4 * abs(k) * (abs(k) + 1))"
   ]
  },
  {
   "cell_type": "markdown",
   "metadata": {},
   "source": [
    " * Argue that these formulas indeed describe a discrete distribution."
   ]
  },
  {
   "cell_type": "markdown",
   "metadata": {},
   "source": [
    "For $k \\neq 0$: $P(X=k) = \\frac{1}{4|k|(|k|+1)} = \\frac{1}{4}(\\frac{1}{|k|}-\\frac{1}{|k|+1})$  \n",
    "X is discrete, so it has values that are integers. But there are absolute values so (assuming 0 is not natural):  \n",
    "$\\sum_{k \\in Z-\\{0\\}}P(X=k)=\\sum_{k \\in Z-\\{0\\}}\\frac{1}{4}(\\frac{1}{|k|}-\\frac{1}{|k|+1}) = \\sum_{k \\in N}2\\cdot\\frac{1}{4}(\\frac{1}{k}-\\frac{1}{k+1})$  \n",
    "Therefore:  \n",
    "$\\sum^\\infty_{k = 1}2\\cdot\\frac{1}{4}(\\frac{1}{k}-\\frac{1}{k+1})=\\frac{1}{2}\\sum^\\infty_{k = 1}(\\frac{1}{k}-\\frac{1}{k+1}) = \\frac{1}{2}$  \n",
    "so  \n",
    "$\\sum_{k \\in Z}P(X=k) = \\sum_{k \\in Z-\\{0\\}}(P(X=k)) + P(X=0) = \\frac{1}{2} + \\frac{1}{2} = 1$  \n",
    "Therefore these formulas indeed describe a discrete distribution (because events sum to 1)"
   ]
  },
  {
   "cell_type": "markdown",
   "metadata": {},
   "source": [
    " * Plot the function $f(k) = P(X=k)$ for $k \\in [-10,10]$."
   ]
  },
  {
   "cell_type": "code",
   "execution_count": 3,
   "metadata": {},
   "outputs": [
    {
     "data": {
      "text/plain": [
       "[<matplotlib.lines.Line2D at 0x7fa3273db5b0>]"
      ]
     },
     "execution_count": 3,
     "metadata": {},
     "output_type": "execute_result"
    },
    {
     "data": {
      "image/png": "[encoded data removed]",
      "text/plain": [
       "<Figure size 864x576 with 1 Axes>"
      ]
     },
     "metadata": {
      "needs_background": "light"
     },
     "output_type": "display_data"
    }
   ],
   "source": [
    "plt.figure(figsize=(12,8))\n",
    "plt.plot([k for k in range(-10, 11)], [P_x(k) for k in range(-10, 11)])"
   ]
  },
  {
   "cell_type": "markdown",
   "metadata": {},
   "source": [
    " * Write a function that samples from $X$'s distribution (imaginary bonus points if it is vectorized)."
   ]
  },
  {
   "cell_type": "code",
   "execution_count": 4,
   "metadata": {},
   "outputs": [],
   "source": [
    "# P(X=k) for natural numbers and zero, it is later chosen\n",
    "# whether value is negative or positive\n",
    "def P_x_natural(k):\n",
    "    if k == 0:\n",
    "        return P_x(k)\n",
    "    return 2*P_x(k)\n",
    "\n",
    "sums = [P_x_natural(0)]\n",
    "\n",
    "def find_interval(u):\n",
    "    left, right = 0, sums[0]\n",
    "    if left <= u and u <= right:\n",
    "        return 0\n",
    "    k = 1\n",
    "    while True:\n",
    "        if len(sums) == k: # update prefix sums\n",
    "            sums.append(sums[k-1] + P_x_natural(k))\n",
    "            \n",
    "        left, right = sums[k-1], sums[k]\n",
    "        if left <= u and u <= right:\n",
    "            return k\n",
    "        k += 1\n",
    "        \n",
    "def simulate():\n",
    "    u = np.random.uniform()\n",
    "    # Probability is counted for natural numbers only, so it is \n",
    "    # chosen whether number is negative or positive\n",
    "    return np.random.choice([1, -1]) * find_interval(u)"
   ]
  },
  {
   "cell_type": "code",
   "execution_count": 5,
   "metadata": {},
   "outputs": [
    {
     "data": {
      "text/plain": [
       "-2"
      ]
     },
     "execution_count": 5,
     "metadata": {},
     "output_type": "execute_result"
    }
   ],
   "source": [
    "simulate()"
   ]
  },
  {
   "cell_type": "markdown",
   "metadata": {},
   "source": [
    " * Generate $N=10\\,000$ values $x_1,\\ldots,x_n$ from the distribution."
   ]
  },
  {
   "cell_type": "code",
   "execution_count": 6,
   "metadata": {},
   "outputs": [],
   "source": [
    "N = 10000\n",
    "vals = [simulate() for i in range(N)]"
   ]
  },
  {
   "cell_type": "code",
   "execution_count": 7,
   "metadata": {},
   "outputs": [
    {
     "data": {
      "text/plain": [
       "<matplotlib.collections.PathCollection at 0x7fa35c53f880>"
      ]
     },
     "execution_count": 7,
     "metadata": {},
     "output_type": "execute_result"
    },
    {
     "data": {
      "image/png": "[encoded data removed]",
      "text/plain": [
       "<Figure size 864x576 with 1 Axes>"
      ]
     },
     "metadata": {
      "needs_background": "light"
     },
     "output_type": "display_data"
    }
   ],
   "source": [
    "plt.figure(figsize=(12,8))\n",
    "plt.scatter(np.arange(1, len(vals)+1), vals)"
   ]
  },
  {
   "cell_type": "markdown",
   "metadata": {},
   "source": [
    " * For $i \\in \\{1,\\ldots,n\\}$ compute $\\bar{x}_i = \\frac{x_1+\\ldots+x_i}{i}$. "
   ]
  },
  {
   "cell_type": "code",
   "execution_count": 8,
   "metadata": {},
   "outputs": [],
   "source": [
    "avgs = np.cumsum(vals).astype(np.float32) / np.arange(1, N + 1)"
   ]
  },
  {
   "cell_type": "markdown",
   "metadata": {},
   "source": [
    " * Plot the values of $\\bar{x}_i$. Does it look like the series converges? If it is not clear, you can compute several independent\n",
    "   $N$-means and plot a histogram, then increase $N$ significantly and see how it changes."
   ]
  },
  {
   "cell_type": "code",
   "execution_count": 9,
   "metadata": {},
   "outputs": [
    {
     "data": {
      "text/plain": [
       "[<matplotlib.lines.Line2D at 0x7fa3272adf10>]"
      ]
     },
     "execution_count": 9,
     "metadata": {},
     "output_type": "execute_result"
    },
    {
     "data": {
      "image/png": "[encoded data removed]",
      "text/plain": [
       "<Figure size 864x576 with 1 Axes>"
      ]
     },
     "metadata": {
      "needs_background": "light"
     },
     "output_type": "display_data"
    }
   ],
   "source": [
    "plt.figure(figsize=(12,8))\n",
    "plt.plot(avgs)"
   ]
  },
  {
   "cell_type": "markdown",
   "metadata": {},
   "source": [
    " * For $i \\in \\{1,\\ldots,n\\}$ compute $\\hat{x}_i = \\textrm{ median of }\\{x_1,\\ldots,x_i\\}$. \n",
    "   You do not need to do it in a clever way (like in ASD lab)."
   ]
  },
  {
   "cell_type": "code",
   "execution_count": 10,
   "metadata": {},
   "outputs": [],
   "source": [
    "medians = []\n",
    "for i in range(1, N+1):\n",
    "    sub_vals = sorted(vals[:i])\n",
    "    if len(sub_vals) % 2 == 0:\n",
    "        medians.append(((sub_vals[i//2])+(sub_vals[(i-1)//2]))/2)\n",
    "    else:\n",
    "        medians.append(sub_vals[i//2])\n"
   ]
  },
  {
   "cell_type": "markdown",
   "metadata": {},
   "source": [
    " * Plot the values of $\\hat{x}_i$. Does it look like the series converges? "
   ]
  },
  {
   "cell_type": "code",
   "execution_count": 11,
   "metadata": {},
   "outputs": [
    {
     "data": {
      "text/plain": [
       "<matplotlib.collections.PathCollection at 0x7fa3270479a0>"
      ]
     },
     "execution_count": 11,
     "metadata": {},
     "output_type": "execute_result"
    },
    {
     "data": {
      "image/png": "[encoded data removed]",
      "text/plain": [
       "<Figure size 864x576 with 1 Axes>"
      ]
     },
     "metadata": {
      "needs_background": "light"
     },
     "output_type": "display_data"
    }
   ],
   "source": [
    "plt.figure(figsize=(12,8))\n",
    "plt.scatter(np.arange(1, N+1), medians)"
   ]
  },
  {
   "cell_type": "markdown",
   "metadata": {},
   "source": [
    " * A more interesting situation would be the one where you a given a distribution like $X+c$ for unknown $c$, and \n",
    "   want to figure out what $c$ is, i.e. find the center of the distribution. Both methods above attempt to\n",
    "   locate the center - which works better?"
   ]
  },
  {
   "cell_type": "markdown",
   "metadata": {},
   "source": [
    "Computing median works better"
   ]
  },
  {
   "cell_type": "code",
   "execution_count": null,
   "metadata": {},
   "outputs": [],
   "source": []
  }
 ],
 "metadata": {
  "kernelspec": {
   "display_name": "Python 3",
   "language": "python",
   "name": "python3"
  },
  "language_info": {
   "codemirror_mode": {
    "name": "ipython",
    "version": 3
   },
   "file_extension": ".py",
   "mimetype": "text/x-python",
   "name": "python",
   "nbconvert_exporter": "python",
   "pygments_lexer": "ipython3",
   "version": "3.8.5"
  }
 },
 "nbformat": 4,
 "nbformat_minor": 4
}
