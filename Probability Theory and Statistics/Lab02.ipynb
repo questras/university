{
 "cells": [
  {
   "cell_type": "markdown",
   "metadata": {},
   "source": [
    "## Michał Wiśniewski 418486"
   ]
  },
  {
   "cell_type": "markdown",
   "metadata": {},
   "source": [
    "**Problem 2c (Squaring the histogram).** In this problem, we again want to sample with known probabilities $p_1,\\ldots,p_n$, but this time we make no assumptions on $p_i$. Consider the following algorithm:\n",
    "   * Let $V$ be the mean of $p_i$, i.e. $V=\\frac{1}{n}$.\n",
    "   * Create $n$ buckets, each with volume $V$, put each $p_i$ into a separate bucket.\n",
    "   * Until there exists a bucket $A$ that is not full, find a bucket $B$ that overflows, and trasfer probability from $B$ to $A$ until $A$ is exactly full\n",
    "\n",
    "Show that:\n",
    "   * This algorithm always ends.\n",
    "   * When it ends, each bucket contains pieces of exactly two $p_i$'s.\n",
    "\n",
    "How to use the result of this algorithm to sample with probabilities $p_i$. Argue that your algorithm is correct and implement it. The sampling part should be *vectorized*. Use this algorithm to sample birthdates again, and test its efficiency."
   ]
  },
  {
   "cell_type": "markdown",
   "metadata": {},
   "source": [
    "# Rozwiązanie"
   ]
  },
  {
   "cell_type": "code",
   "execution_count": 1,
   "metadata": {},
   "outputs": [],
   "source": [
    "import numpy as np\n",
    "import matplotlib.pyplot as plt\n",
    "import random\n",
    "%matplotlib inline"
   ]
  },
  {
   "cell_type": "code",
   "execution_count": 2,
   "metadata": {},
   "outputs": [],
   "source": [
    "data = np.loadtxt('./lab1/us_births_69_88.csv', skiprows=1, delimiter=',', dtype=int)"
   ]
  },
  {
   "cell_type": "markdown",
   "metadata": {},
   "source": [
    "## Kubełkowanie"
   ]
  },
  {
   "cell_type": "code",
   "execution_count": 3,
   "metadata": {},
   "outputs": [],
   "source": [
    "def underflows(frac, n):\n",
    "    return frac < 1/n\n",
    "\n",
    "def overflows(frac, n):\n",
    "    return frac > 1/n\n",
    "\n",
    "def bucketize(counts):\n",
    "    n = len(counts)\n",
    "    sum_counts = np.sum(counts)\n",
    "    \n",
    "    buckets_volume = [c / sum_counts for c in counts]\n",
    "    buckets_presence = [[i] for i in range(n)]\n",
    "    probabilities = [bv for bv in buckets_volume]\n",
    "\n",
    "    overflowing = {i for i, frac in enumerate(buckets_volume) if overflows(frac, n)}\n",
    "    underflowing = {i for i, frac in enumerate(buckets_volume) if underflows(frac, n)}\n",
    "\n",
    "    # Tak długo aż istnieje niepełny kubełek i przelewający się kubełek.\n",
    "    while len(overflowing) > 0 and len(underflowing) > 0:\n",
    "        underflow_idx = underflowing.pop()\n",
    "        overflow_idx = overflowing.pop()\n",
    "        probabilities[underflow_idx] = buckets_volume[underflow_idx]\n",
    "        \n",
    "        diff = 1/n - buckets_volume[underflow_idx]\n",
    "        buckets_volume[underflow_idx] = 1/n\n",
    "        buckets_volume[overflow_idx] = buckets_volume[overflow_idx]-diff\n",
    "        \n",
    "        buckets_presence[underflow_idx].append(overflow_idx)\n",
    "\n",
    "        if underflows(buckets_volume[overflow_idx], n):\n",
    "            underflowing.add(overflow_idx)\n",
    "        elif overflows(buckets_volume[overflow_idx], n):\n",
    "            overflowing.add(overflow_idx)\n",
    "    \n",
    "    for bucket in buckets_presence:\n",
    "        if len(bucket) == 1:\n",
    "            # Jeśli w kubełku jest tylko jeden dzień, to dodajemy\n",
    "            # na końcu -1, i tak nigdy jej nie wylosujemy\n",
    "            bucket.append(-1) \n",
    "    probabilities = np.array(probabilities) * n\n",
    "    buckets_presence = np.array(buckets_presence)\n",
    "    \n",
    "    return probabilities, buckets_presence"
   ]
  },
  {
   "cell_type": "markdown",
   "metadata": {},
   "source": [
    "### Wytłumaczenie\n",
    "Ten algorytm działa tak, że bierze niedopełniony kubełek i nadpełniony kubełek i przelewa z nadpełnionego to niedopełnionego, aby w niedopełnionym była idealna objętość.  \n",
    "W takim razie, jeśli bierzemy tylko niedopełnione i nadpełnione kubełki to mamy gwarancję, że jeśli któryś z kubełkow będzie miał oczekiwaną objętość (będzie pełny) to go już ponownie nie weźmiemy.  \n",
    "Kubełek który przed operacją był nadpełniony, teraz może być nadpełniony, pełny lub niedopełniony. Czyli po każdej operacji albo zmniejszamy ilość niedopełnionych kubełków albo pozostaje ona równa (gdy kubełek początkowo nadpełniony zamienia się w niedopełniony). To pokazuje, że każdy kubełek może być dopełniony przez jakiś inny kubełek dokładnie raz (bo wtedy, po dopełnieniu, jest już pełny). Z tego wynika, że algorytm się skończy, ponieważ dopełniamy kubełki, a każdy kubełek dopełniamy tylko raz, a jest ich skończona ilość. Z tego również wynika, że w każdym kubełku będą części z co najwyżej 2 kubełkow, bo będąc kubełkiem niedopełnionym mamy tylko swoją część, a będąc dopełnionym dostajemy część od innego kubełka i już jesteśmy pełni i nie dostaniemy więcej części."
   ]
  },
  {
   "cell_type": "markdown",
   "metadata": {},
   "source": [
    "## Znajdowanie powtórek"
   ]
  },
  {
   "cell_type": "code",
   "execution_count": 4,
   "metadata": {},
   "outputs": [],
   "source": [
    "def count_runs_until_repeat_vectorized(days):\n",
    "    s = set()\n",
    "    results = []\n",
    "    for day in days:\n",
    "        if day in s:\n",
    "            results.append(len(s))\n",
    "            s = set()\n",
    "        else:\n",
    "            s.add(day)\n",
    "    return results"
   ]
  },
  {
   "cell_type": "markdown",
   "metadata": {},
   "source": [
    "## Samplowanie"
   ]
  },
  {
   "cell_type": "code",
   "execution_count": 5,
   "metadata": {},
   "outputs": [],
   "source": [
    "def sample(counts, n):    \n",
    "    probabilities, buckets = bucketize(counts)\n",
    "    \n",
    "    days = np.random.randint(0, len(buckets), size=n)\n",
    "    generated_probabilities = np.random.uniform(0, 1, size=n)\n",
    "    \n",
    "    data = np.where(generated_probabilities <= probabilities[days], \n",
    "                    buckets[days, 0],\n",
    "                    buckets[days, 1])\n",
    "    return data"
   ]
  },
  {
   "cell_type": "markdown",
   "metadata": {},
   "source": [
    "## Test Samplowania"
   ]
  },
  {
   "cell_type": "code",
   "execution_count": 6,
   "metadata": {},
   "outputs": [],
   "source": [
    "counts = [1, 6, 3]\n",
    "N = 1000000\n",
    "sampling = sample(counts, N)"
   ]
  },
  {
   "cell_type": "code",
   "execution_count": 7,
   "metadata": {
    "scrolled": true
   },
   "outputs": [
    {
     "data": {
      "text/plain": [
       "(array([100020.,      0.,      0.,      0.,      0., 599651.,      0.,\n",
       "             0.,      0., 300329.]),\n",
       " array([0. , 0.2, 0.4, 0.6, 0.8, 1. , 1.2, 1.4, 1.6, 1.8, 2. ]),\n",
       " <BarContainer object of 10 artists>)"
      ]
     },
     "execution_count": 7,
     "metadata": {},
     "output_type": "execute_result"
    },
    {
     "data": {
      "image/png": "[encoded data removed]",
      "text/plain": [
       "<Figure size 432x288 with 1 Axes>"
      ]
     },
     "metadata": {
      "needs_background": "light"
     },
     "output_type": "display_data"
    }
   ],
   "source": [
    "plt.hist(sampling)"
   ]
  },
  {
   "cell_type": "code",
   "execution_count": 8,
   "metadata": {},
   "outputs": [],
   "source": [
    "counts = [4, 4, 4, 4]\n",
    "N = 1000000\n",
    "sampling = sample(counts, N)"
   ]
  },
  {
   "cell_type": "code",
   "execution_count": 9,
   "metadata": {
    "scrolled": true
   },
   "outputs": [
    {
     "data": {
      "text/plain": [
       "(array([249692.,      0.,      0., 250411.,      0.,      0., 250356.,\n",
       "             0.,      0., 249541.]),\n",
       " array([0. , 0.3, 0.6, 0.9, 1.2, 1.5, 1.8, 2.1, 2.4, 2.7, 3. ]),\n",
       " <BarContainer object of 10 artists>)"
      ]
     },
     "execution_count": 9,
     "metadata": {},
     "output_type": "execute_result"
    },
    {
     "data": {
      "image/png": "[encoded data removed]",
      "text/plain": [
       "<Figure size 432x288 with 1 Axes>"
      ]
     },
     "metadata": {
      "needs_background": "light"
     },
     "output_type": "display_data"
    }
   ],
   "source": [
    "plt.hist(sampling)"
   ]
  },
  {
   "cell_type": "markdown",
   "metadata": {},
   "source": [
    "## Użycie samplowania z kubełkowaniem na danych z pliku"
   ]
  },
  {
   "cell_type": "code",
   "execution_count": 10,
   "metadata": {},
   "outputs": [
    {
     "name": "stdout",
     "output_type": "stream",
     "text": [
      "CPU times: user 55.2 ms, sys: 15.6 ms, total: 70.9 ms\n",
      "Wall time: 70.1 ms\n"
     ]
    }
   ],
   "source": [
    "%%time\n",
    "counts = data[:, 2]\n",
    "N = 2500000\n",
    "sampling = sample(counts, N)"
   ]
  },
  {
   "cell_type": "code",
   "execution_count": 11,
   "metadata": {
    "scrolled": true
   },
   "outputs": [
    {
     "name": "stdout",
     "output_type": "stream",
     "text": [
      "Ilość kolizji: 101682\n",
      "CPU times: user 441 ms, sys: 0 ns, total: 441 ms\n",
      "Wall time: 440 ms\n"
     ]
    }
   ],
   "source": [
    "%%time\n",
    "runs = count_runs_until_repeat_vectorized(sampling)\n",
    "print('Ilość kolizji:', len(runs))"
   ]
  },
  {
   "cell_type": "code",
   "execution_count": 12,
   "metadata": {
    "scrolled": false
   },
   "outputs": [
    {
     "data": {
      "image/png": "[encoded data removed]",
      "text/plain": [
       "<Figure size 432x288 with 1 Axes>"
      ]
     },
     "metadata": {
      "needs_background": "light"
     },
     "output_type": "display_data"
    }
   ],
   "source": [
    "plt.hist(runs, bins=range(1, 100));"
   ]
  },
  {
   "cell_type": "code",
   "execution_count": 13,
   "metadata": {
    "scrolled": false
   },
   "outputs": [
    {
     "data": {
      "text/plain": [
       "23.586239452410457"
      ]
     },
     "execution_count": 13,
     "metadata": {},
     "output_type": "execute_result"
    }
   ],
   "source": [
    "np.average(runs)"
   ]
  }
 ],
 "metadata": {
  "kernelspec": {
   "display_name": "Python 3",
   "language": "python",
   "name": "python3"
  },
  "language_info": {
   "codemirror_mode": {
    "name": "ipython",
    "version": 3
   },
   "file_extension": ".py",
   "mimetype": "text/x-python",
   "name": "python",
   "nbconvert_exporter": "python",
   "pygments_lexer": "ipython3",
   "version": "3.8.5"
  }
 },
 "nbformat": 4,
 "nbformat_minor": 4
}
