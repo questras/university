{
 "cells": [
  {
   "cell_type": "markdown",
   "metadata": {},
   "source": [
    "### Michał Wiśniewski 418486"
   ]
  },
  {
   "cell_type": "markdown",
   "metadata": {},
   "source": [
    "**Problem 5c (Chi-square independence test).** \n",
    "You are given the results of IPSOS exit polls for 2015 parliamentary elections in Poland in table **data**. Decide if we can assume that gender has no effect on voting preferences. To this end:\n",
    " * Compute row totals $r_i$, column totals $c_j$, and overall total $N$.\n",
    " * If the variables are independent, we expect to see $f_{ij} = r_i c_j / N$ in $i$-th row $j$-th column.\n",
    " * Compute the test statistic as before, i.e. $$ S = \\sum_{ij} \\frac{\\left(f_{ij}-X_{ij}\\right)^2}{f_{ij}}.$$\n",
    " * Again test vs $\\chi^2$ CDF. However, if the variables are independent, we only have $(r-1)(c-1)$ degrees of freedom here (we only need to know the row and column totals).\n",
    " * One obvious offender is the KORWiN party, try removing the last column and repeating the experiment.\n",
    " \n",
    "**Note:** This kind of data is (to the best of our knowledge) not available online. It has been recreated based on\n",
    "online infographics and other tidbits of information available online. It is definitely not completely accurate, hopefully it is not very far off. Moreover, exit polls do not necessary reflect the actual distribution of the population."
   ]
  },
  {
   "cell_type": "code",
   "execution_count": 195,
   "metadata": {},
   "outputs": [
    {
     "data": {
      "text/plain": [
       "array([[350, 232,  66,  62,  58,  44,  37,  24],\n",
       "       [353, 186,  97,  65,  60,  49,  32,  65]])"
      ]
     },
     "execution_count": 195,
     "metadata": {},
     "output_type": "execute_result"
    }
   ],
   "source": [
    "import numpy as np\n",
    "from scipy.stats import chi2\n",
    "import matplotlib.pyplot as plt\n",
    "%matplotlib inline\n",
    "\n",
    "# Rows: women, men\n",
    "# Columns: PiS, PO, Kukiz, Nowoczesna, Lewica, PSL, Razem, KORWiN\n",
    "#data = np.array([ [39.7,26.4,7.5,7.1,6.6,5.0,4.2,2.8], \n",
    "#                  [38.5,20.3,10.6,7.1,6.6,5.4,3.5,7.1]])\n",
    "data = np.array([[ 17508, 11642,  3308,  3131,  2911,  2205,  1852, 1235],\n",
    " [ 17672,  9318,  4865,  3259,  3029,  2479,  1606, 3259]])\n",
    "\n",
    "# Lekko zmienione dane tak jak w notebooku z rozwiązaniami\n",
    "data = data // 50\n",
    "data"
   ]
  },
  {
   "cell_type": "markdown",
   "metadata": {},
   "source": [
    "$H_0$ - są niezależne od płci  \n",
    "$H_1$ - nie są"
   ]
  },
  {
   "cell_type": "markdown",
   "metadata": {},
   "source": [
    "## Poniżej wybór, czy bierzemy partie Korwin czy nie (najpierw należy wczytać poprzednią komórkę)"
   ]
  },
  {
   "cell_type": "code",
   "execution_count": 196,
   "metadata": {},
   "outputs": [],
   "source": [
    "czyBracKorwin = True\n",
    "if not czyBracKorwin:\n",
    "    data = data[:, :-1]"
   ]
  },
  {
   "cell_type": "code",
   "execution_count": 197,
   "metadata": {},
   "outputs": [
    {
     "name": "stdout",
     "output_type": "stream",
     "text": [
      "2 8\n"
     ]
    }
   ],
   "source": [
    "threshold = 0.05\n",
    "rows = data.shape[0]\n",
    "cols = data.shape[1]\n",
    "print(rows, cols)"
   ]
  },
  {
   "cell_type": "code",
   "execution_count": 198,
   "metadata": {},
   "outputs": [
    {
     "name": "stdout",
     "output_type": "stream",
     "text": [
      "[873, 907] [703, 418, 163, 127, 118, 93, 69, 89] 1780\n"
     ]
    }
   ],
   "source": [
    "rows_sum = []\n",
    "columns_sum = []\n",
    "\n",
    "for row_i in range(data.shape[0]):\n",
    "    rows_sum.append(np.sum(data[row_i]))\n",
    "    \n",
    "for column_i in range(data.shape[1]):\n",
    "    columns_sum.append(np.sum(data[:,column_i]))    \n",
    "    \n",
    "all_sum = np.sum(data)\n",
    "\n",
    "print(rows_sum, columns_sum, all_sum)"
   ]
  },
  {
   "cell_type": "code",
   "execution_count": 199,
   "metadata": {},
   "outputs": [
    {
     "data": {
      "text/plain": [
       "[[344.7859550561798,\n",
       "  205.00786516853933,\n",
       "  79.9432584269663,\n",
       "  62.28707865168539,\n",
       "  57.87303370786517,\n",
       "  45.61179775280899,\n",
       "  33.84101123595506,\n",
       "  43.65],\n",
       " [358.2140449438202,\n",
       "  212.99213483146067,\n",
       "  83.0567415730337,\n",
       "  64.71292134831461,\n",
       "  60.12696629213483,\n",
       "  47.38820224719101,\n",
       "  35.15898876404494,\n",
       "  45.35]]"
      ]
     },
     "execution_count": 199,
     "metadata": {},
     "output_type": "execute_result"
    }
   ],
   "source": [
    "calc_data = []\n",
    "for row_i in range(data.shape[0]):\n",
    "    calc_data.append([])\n",
    "    for col_i in range(data.shape[1]):\n",
    "        calc_data[row_i].append(rows_sum[row_i] * columns_sum[col_i] / all_sum)\n",
    "calc_data"
   ]
  },
  {
   "cell_type": "code",
   "execution_count": 200,
   "metadata": {},
   "outputs": [
    {
     "name": "stdout",
     "output_type": "stream",
     "text": [
      "29.95574093288753\n"
     ]
    }
   ],
   "source": [
    "S = 0\n",
    "for row in range(data.shape[0]):\n",
    "    for col in range(data.shape[1]):\n",
    "        S += ((data[row][col] - calc_data[row][col])**2)/calc_data[row][col]\n",
    "        \n",
    "print(S)"
   ]
  },
  {
   "cell_type": "code",
   "execution_count": 201,
   "metadata": {},
   "outputs": [
    {
     "data": {
      "text/plain": [
       "14.067140449340169"
      ]
     },
     "execution_count": 201,
     "metadata": {},
     "output_type": "execute_result"
    }
   ],
   "source": [
    "critical_value = chi2.ppf(1-threshold, (cols-1)*(rows-1))\n",
    "critical_value"
   ]
  },
  {
   "cell_type": "code",
   "execution_count": 202,
   "metadata": {},
   "outputs": [
    {
     "data": {
      "text/plain": [
       "[<matplotlib.lines.Line2D at 0x7f31a779c610>]"
      ]
     },
     "execution_count": 202,
     "metadata": {},
     "output_type": "execute_result"
    },
    {
     "data": {
      "image/png": "[encoded data removed]",
      "text/plain": [
       "<Figure size 864x576 with 1 Axes>"
      ]
     },
     "metadata": {
      "needs_background": "light"
     },
     "output_type": "display_data"
    }
   ],
   "source": [
    "plt.figure(figsize=(12,8))\n",
    "plt.vlines([S, critical_value], ymin=0, ymax=0.15, colors=['r', 'g'], label=['aa', 'bb'])\n",
    "plt.plot(np.linspace(0, 41, num=100), chi2.pdf(np.linspace(0, 41, num=100), df=(rows-1)*(cols-1)))\n",
    "\n",
    "# Zielona linia - wartość krytyczna, czerwona linia - S"
   ]
  },
  {
   "cell_type": "code",
   "execution_count": 203,
   "metadata": {},
   "outputs": [
    {
     "data": {
      "text/plain": [
       "9.675122668517666e-05"
      ]
     },
     "execution_count": 203,
     "metadata": {},
     "output_type": "execute_result"
    }
   ],
   "source": [
    "pvalue = 1 - chi2.cdf(S, df=(cols-1)*(rows-1))\n",
    "pvalue"
   ]
  },
  {
   "cell_type": "code",
   "execution_count": 204,
   "metadata": {},
   "outputs": [
    {
     "name": "stdout",
     "output_type": "stream",
     "text": [
      "(Na podstawie wartości krytycznej) Czy bierzemy H0?: False\n"
     ]
    }
   ],
   "source": [
    "print('(Na podstawie wartości krytycznej) Czy bierzemy H0?:', S <= critical_value)"
   ]
  },
  {
   "cell_type": "code",
   "execution_count": 205,
   "metadata": {},
   "outputs": [
    {
     "name": "stdout",
     "output_type": "stream",
     "text": [
      "(Na podstawie p-value) Czy bierzemy H0?: False\n"
     ]
    }
   ],
   "source": [
    "print('(Na podstawie p-value) Czy bierzemy H0?:', pvalue > threshold)"
   ]
  },
  {
   "cell_type": "code",
   "execution_count": 206,
   "metadata": {},
   "outputs": [
    {
     "name": "stdout",
     "output_type": "stream",
     "text": [
      "S statistic value: 29.95574093288753 p-value: 9.675122668517666e-05 threshold 0.05 Accept H0?: False\n"
     ]
    }
   ],
   "source": [
    "print('S statistic value:', S, 'p-value:', pvalue, 'threshold', threshold, 'Accept H0?:', S <= critical_value)"
   ]
  },
  {
   "cell_type": "code",
   "execution_count": null,
   "metadata": {},
   "outputs": [],
   "source": []
  }
 ],
 "metadata": {
  "kernelspec": {
   "display_name": "Python 3",
   "language": "python",
   "name": "python3"
  },
  "language_info": {
   "codemirror_mode": {
    "name": "ipython",
    "version": 3
   },
   "file_extension": ".py",
   "mimetype": "text/x-python",
   "name": "python",
   "nbconvert_exporter": "python",
   "pygments_lexer": "ipython3",
   "version": "3.8.5"
  }
 },
 "nbformat": 4,
 "nbformat_minor": 1
}
